{
 "cells": [
  {
   "cell_type": "markdown",
   "id": "9e29f605",
   "metadata": {},
   "source": [
    "# Сортировка Merge Sort\n",
    "###### Напишем главную функцию сортировки\n",
    "Алгоритм сортировки слиянием работает так:\n",
    "1) Исходный массив делится на две примерно равные части. Если массив имеет нечетное количество элементов, одна из этих «половин» на один элемент больше, чем другая.\n",
    "2) Подмассивы делятся снова и снова на две половины, пока вы не получите массивы, которые имеют только один элемент каждый.\n",
    "3) Затем вы объединяете пары одноэлементных массивов в двухэлементные массивы, сохраняя их в процессе. Затем эти отсортированные пары объединяются в четырехэлементные массивы и так далее до тех пор, пока не будет получен исходный отсортированный массив."
   ]
  },
  {
   "cell_type": "code",
   "execution_count": 1,
   "id": "0243c99d",
   "metadata": {},
   "outputs": [],
   "source": [
    "import operator\n",
    "import time\n",
    "\n",
    "def MergeSort(L, compare=operator.lt):\n",
    "    if len(L) < 2:\n",
    "        return L[:]\n",
    "    else:\n",
    "        middle = int(len(L) / 2)\n",
    "        left = MergeSort(L[:middle], compare)\n",
    "        right = MergeSort(L[middle:], compare)\n",
    "        return Merge(left, right, compare)\n",
    "\n",
    "def Merge(left, right, compare):\n",
    "    result = []\n",
    "    i, j = 0, 0\n",
    "    while i < len(left) and j < len(right):\n",
    "        if compare(left[i], right[j]):\n",
    "            result.append(left[i])\n",
    "            i += 1\n",
    "        else:\n",
    "            result.append(right[j])\n",
    "            j += 1\n",
    "    while i < len(left):\n",
    "        result.append(left[i])\n",
    "        i += 1\n",
    "    while j < len(right):\n",
    "        result.append(right[j])\n",
    "        j += 1\n",
    "    return result"
   ]
  },
  {
   "cell_type": "markdown",
   "id": "0b642c1b",
   "metadata": {},
   "source": [
    "Проверем на массиве ниже нашу функцию:"
   ]
  },
  {
   "cell_type": "code",
   "execution_count": 2,
   "id": "27543e74",
   "metadata": {},
   "outputs": [
    {
     "data": {
      "text/plain": [
       "[3, 4, 6, 8, 13, 16, 19, 27, 27, 34, 39, 41, 41, 52, 78]"
      ]
     },
     "execution_count": 2,
     "metadata": {},
     "output_type": "execute_result"
    }
   ],
   "source": [
    "array = [78, 41, 4, 27, 3, 27, 8, 39, 19, 34, 6, 41, 13, 52, 16]\n",
    "MergeSort(array)"
   ]
  },
  {
   "cell_type": "markdown",
   "id": "eb660da9",
   "metadata": {},
   "source": [
    "Функция возвращающая массив значений из файла:"
   ]
  },
  {
   "cell_type": "code",
   "execution_count": 3,
   "id": "1f1ef6bc",
   "metadata": {},
   "outputs": [],
   "source": [
    "def ReadFile(file_name: str):\n",
    "    with open(file_name) as f:\n",
    "            array=f.read().split()\n",
    "            array = list(map(int, array))\n",
    "            count_array = len(array)\n",
    "            print(count_array)\n",
    "    return array"
   ]
  },
  {
   "cell_type": "markdown",
   "id": "4377d6b2",
   "metadata": {},
   "source": [
    "Протестим"
   ]
  },
  {
   "cell_type": "code",
   "execution_count": 4,
   "id": "3682fbd8",
   "metadata": {},
   "outputs": [
    {
     "name": "stdout",
     "output_type": "stream",
     "text": [
      "10\n",
      "[19994471, 10967038, 30390611, 9064544, 40071385, 7915273, 16223462, 46051465, 10574576, 36692209]\n",
      "100\n",
      "[10968478, 36018131, 15843214, 1428897, 2099975, 243589, 29025977, 6908569, 32152846, 47692733]\n",
      "1000000\n",
      "[16011297, 17818544, 30946024, 29191012, 31693030, 48597799, 45790967, 15680021, 47574730, 26313813]\n"
     ]
    }
   ],
   "source": [
    "array10=ReadFile(\"10.rand\")\n",
    "print(array10)\n",
    "\n",
    "array100=ReadFile(\"100.rand\")\n",
    "print(array100[0:10])\n",
    "\n",
    "array1000000=ReadFile(\"1000000.rand\")\n",
    "print(array1000000[0:10])"
   ]
  },
  {
   "cell_type": "code",
   "execution_count": 5,
   "id": "99cad688",
   "metadata": {},
   "outputs": [
    {
     "name": "stdout",
     "output_type": "stream",
     "text": [
      "The duration of script execution was: 0 hours 0 minutes 9.82 seconds\n",
      "[25, 40, 113, 119, 199, 212, 216, 284, 300, 303, 319, 339, 359, 391, 405]\n"
     ]
    }
   ],
   "source": [
    "if len(array1000000)!=0:\n",
    "    start = time.time()\n",
    "    temp_array=MergeSort(array1000000)\n",
    "end = time.time()\n",
    "print('The duration of script execution was: {:.0f}'.format((end - start) // 3600) + \\\n",
    "      ' hours' + ' {:.0f}'.format(((end - start) - (((end - start) // 3600) * 3600)) // 60) + ' minutes' + \\\n",
    "      ' {:.2f}'.format((end - start) - ((end - start) // 60) * 60) + ' seconds')\n",
    "print(temp_array[0:15])"
   ]
  },
  {
   "cell_type": "markdown",
   "id": "50233430",
   "metadata": {},
   "source": [
    "# Весь код:"
   ]
  },
  {
   "cell_type": "code",
   "execution_count": 6,
   "id": "832b573b",
   "metadata": {},
   "outputs": [
    {
     "name": "stdout",
     "output_type": "stream",
     "text": [
      "[16011297, 17818544, 30946024, 29191012, 31693030, 48597799, 45790967, 15680021, 47574730, 26313813]\n",
      "The duration of script execution was: 0 hours 0 minutes 9.84 seconds\n",
      "[25, 40, 113, 119, 199, 212, 216, 284, 300, 303, 319, 339, 359, 391, 405]\n"
     ]
    }
   ],
   "source": [
    "import operator\n",
    "import time\n",
    "\n",
    "def MergeSort(L, compare=operator.lt):\n",
    "    if len(L) < 2:\n",
    "        return L[:]\n",
    "    else:\n",
    "        middle = int(len(L) / 2)\n",
    "        left = MergeSort(L[:middle], compare)\n",
    "        right = MergeSort(L[middle:], compare)\n",
    "        return Merge(left, right, compare)\n",
    "\n",
    "def Merge(left, right, compare):\n",
    "    result = []\n",
    "    i, j = 0, 0\n",
    "    while i < len(left) and j < len(right):\n",
    "        if compare(left[i], right[j]):\n",
    "            result.append(left[i])\n",
    "            i += 1\n",
    "        else:\n",
    "            result.append(right[j])\n",
    "            j += 1\n",
    "    while i < len(left):\n",
    "        result.append(left[i])\n",
    "        i += 1\n",
    "    while j < len(right):\n",
    "        result.append(right[j])\n",
    "        j += 1\n",
    "    return result\n",
    "\n",
    "def ReadFile(file_name: str):\n",
    "    with open(file_name) as f:\n",
    "            array=f.read().split()\n",
    "            array = list(map(int, array))\n",
    "            count_array = len(array)\n",
    "#             print(count_array)\n",
    "    return array\n",
    "\n",
    "array10=ReadFile(\"10.rand\")\n",
    "array100=ReadFile(\"100.rand\")\n",
    "array1000000=ReadFile(\"1000000.rand\")\n",
    "print(array1000000[0:10])\n",
    "\n",
    "if len(array1000000)!=0:\n",
    "    start = time.time()\n",
    "    temp_array=MergeSort(array1000000)\n",
    "end = time.time()\n",
    "print('The duration of script execution was: {:.0f}'.format((end - start) // 3600) + \\\n",
    "      ' hours' + ' {:.0f}'.format(((end - start) - (((end - start) // 3600) * 3600)) // 60) + ' minutes' + \\\n",
    "      ' {:.2f}'.format((end - start) - ((end - start) // 60) * 60) + ' seconds')\n",
    "print(temp_array[0:15])"
   ]
  },
  {
   "cell_type": "code",
   "execution_count": null,
   "id": "052b91cd",
   "metadata": {},
   "outputs": [],
   "source": []
  }
 ],
 "metadata": {
  "kernelspec": {
   "display_name": "Python 3",
   "language": "python",
   "name": "python3"
  },
  "language_info": {
   "codemirror_mode": {
    "name": "ipython",
    "version": 3
   },
   "file_extension": ".py",
   "mimetype": "text/x-python",
   "name": "python",
   "nbconvert_exporter": "python",
   "pygments_lexer": "ipython3",
   "version": "3.8.10"
  }
 },
 "nbformat": 4,
 "nbformat_minor": 5
}
